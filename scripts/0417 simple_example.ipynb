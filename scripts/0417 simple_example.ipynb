{
 "cells": [
  {
   "cell_type": "code",
   "execution_count": 7,
   "metadata": {},
   "outputs": [],
   "source": [
    "import pandas as pd\n",
    "import numpy as np\n",
    "\n",
    "import os"
   ]
  },
  {
   "cell_type": "code",
   "execution_count": 8,
   "metadata": {},
   "outputs": [],
   "source": [
    "GITHUB_KEY = \"../credentials/github.txt\"\n",
    "if os.path.exists(GITHUB_KEY):\n",
    "    with open(GITHUB_KEY, 'r') as f:\n",
    "        api_key = f.readline()\n",
    "        headers = {\"Authorization\": \"bearer \" + api_key.strip()}"
   ]
  },
  {
   "cell_type": "code",
   "execution_count": 3,
   "metadata": {},
   "outputs": [],
   "source": [
    "# setup credentials\n",
    "os.environ['GOOGLE_APPLICATION_CREDENTIALS'] = (\n",
    "    os.path.abspath(\"../credentials/github.txt\"))\n",
    "\n",
    "%load_ext google.cloud.bigquery"
   ]
  },
  {
   "cell_type": "code",
   "execution_count": 4,
   "metadata": {},
   "outputs": [
    {
     "name": "stderr",
     "output_type": "stream",
     "text": [
      "Query complete after 0.04s: 100%|██████████| 1/1 [00:00<00:00, 901.03query/s]                          \n",
      "Downloading: 100%|██████████| 1/1 [00:03<00:00,  3.45s/rows]\n"
     ]
    }
   ],
   "source": [
    "%%bigquery --use_rest_api trace_to\n",
    "# 크립토키티\n",
    "select *\n",
    "from `bigquery-public-data.crypto_ethereum.traces`\n",
    "where DATE(block_timestamp) = \"2021-02-16\"\n",
    "and to_address = '0x2de32b2f4d86c8e7581643c6158eaad5f18f04d0'"
   ]
  },
  {
   "cell_type": "code",
   "execution_count": 5,
   "metadata": {},
   "outputs": [
    {
     "data": {
      "text/html": [
       "<div>\n",
       "<style scoped>\n",
       "    .dataframe tbody tr th:only-of-type {\n",
       "        vertical-align: middle;\n",
       "    }\n",
       "\n",
       "    .dataframe tbody tr th {\n",
       "        vertical-align: top;\n",
       "    }\n",
       "\n",
       "    .dataframe thead th {\n",
       "        text-align: right;\n",
       "    }\n",
       "</style>\n",
       "<table border=\"1\" class=\"dataframe\">\n",
       "  <thead>\n",
       "    <tr style=\"text-align: right;\">\n",
       "      <th></th>\n",
       "      <th>transaction_hash</th>\n",
       "      <th>transaction_index</th>\n",
       "      <th>from_address</th>\n",
       "      <th>to_address</th>\n",
       "      <th>value</th>\n",
       "      <th>input</th>\n",
       "      <th>output</th>\n",
       "      <th>trace_type</th>\n",
       "      <th>call_type</th>\n",
       "      <th>reward_type</th>\n",
       "      <th>gas</th>\n",
       "      <th>gas_used</th>\n",
       "      <th>subtraces</th>\n",
       "      <th>trace_address</th>\n",
       "      <th>error</th>\n",
       "      <th>status</th>\n",
       "      <th>block_timestamp</th>\n",
       "      <th>block_number</th>\n",
       "      <th>block_hash</th>\n",
       "      <th>trace_id</th>\n",
       "    </tr>\n",
       "  </thead>\n",
       "  <tbody>\n",
       "    <tr>\n",
       "      <th>0</th>\n",
       "      <td>0x2eb45ce9f8704a5827ed492a1ce998fe9c0355a70351...</td>\n",
       "      <td>196</td>\n",
       "      <td>0xb1690c08e213a35ed9bab7b318de14420fb57d8c</td>\n",
       "      <td>0x2de32b2f4d86c8e7581643c6158eaad5f18f04d0</td>\n",
       "      <td>0E-9</td>\n",
       "      <td>0x</td>\n",
       "      <td>0x</td>\n",
       "      <td>call</td>\n",
       "      <td>call</td>\n",
       "      <td>None</td>\n",
       "      <td>2300</td>\n",
       "      <td>0</td>\n",
       "      <td>0</td>\n",
       "      <td>1</td>\n",
       "      <td>None</td>\n",
       "      <td>1</td>\n",
       "      <td>2021-02-16 08:13:53+00:00</td>\n",
       "      <td>11866662</td>\n",
       "      <td>0xf1854bfe112e12685371b7d17d0c3bc4f5f71ca50b62...</td>\n",
       "      <td>call_0x2eb45ce9f8704a5827ed492a1ce998fe9c0355a...</td>\n",
       "    </tr>\n",
       "  </tbody>\n",
       "</table>\n",
       "</div>"
      ],
      "text/plain": [
       "                                    transaction_hash  transaction_index  \\\n",
       "0  0x2eb45ce9f8704a5827ed492a1ce998fe9c0355a70351...                196   \n",
       "\n",
       "                                 from_address  \\\n",
       "0  0xb1690c08e213a35ed9bab7b318de14420fb57d8c   \n",
       "\n",
       "                                   to_address value input output trace_type  \\\n",
       "0  0x2de32b2f4d86c8e7581643c6158eaad5f18f04d0  0E-9    0x     0x       call   \n",
       "\n",
       "  call_type reward_type   gas  gas_used  subtraces trace_address error  \\\n",
       "0      call        None  2300         0          0             1  None   \n",
       "\n",
       "   status           block_timestamp  block_number  \\\n",
       "0       1 2021-02-16 08:13:53+00:00      11866662   \n",
       "\n",
       "                                          block_hash  \\\n",
       "0  0xf1854bfe112e12685371b7d17d0c3bc4f5f71ca50b62...   \n",
       "\n",
       "                                            trace_id  \n",
       "0  call_0x2eb45ce9f8704a5827ed492a1ce998fe9c0355a...  "
      ]
     },
     "execution_count": 5,
     "metadata": {},
     "output_type": "execute_result"
    }
   ],
   "source": [
    "trace_to.head()"
   ]
  }
 ],
 "metadata": {
  "kernelspec": {
   "display_name": "Python 3",
   "language": "python",
   "name": "python3"
  },
  "language_info": {
   "codemirror_mode": {
    "name": "ipython",
    "version": 3
   },
   "file_extension": ".py",
   "mimetype": "text/x-python",
   "name": "python",
   "nbconvert_exporter": "python",
   "pygments_lexer": "ipython3",
   "version": "3.8.5"
  }
 },
 "nbformat": 4,
 "nbformat_minor": 5
}
